{
 "cells": [
  {
   "cell_type": "code",
   "execution_count": null,
   "id": "cd9cb604",
   "metadata": {},
   "outputs": [],
   "source": [
    "#impots\n",
    "import numpy as np\n",
    "import matplotlib.pyplot as plt\n",
    "import pandas as pd\n",
    "import seaborn as sns\n",
    "import datetime as dt"
   ]
  },
  {
   "cell_type": "code",
   "execution_count": null,
   "id": "9e1d6c6e",
   "metadata": {},
   "outputs": [],
   "source": [
    "#carregando os dados\n",
    "df_dsa = pd.read_csv('dataset.csv')"
   ]
  },
  {
   "cell_type": "code",
   "execution_count": null,
   "id": "3b0e696e",
   "metadata": {},
   "outputs": [],
   "source": [
    "#shape mostrando o tamanho do dataset, total de linhas e colunas\n",
    "df_dsa.shape"
   ]
  },
  {
   "cell_type": "code",
   "execution_count": null,
   "id": "5b8043f1",
   "metadata": {},
   "outputs": [],
   "source": [
    "#mostrando as 5 primeiras linhas do dataset\n",
    "df_dsa.head()"
   ]
  },
  {
   "cell_type": "code",
   "execution_count": null,
   "id": "f61d432e",
   "metadata": {},
   "outputs": [],
   "source": [
    "#amostra de as ultimas linhas do dataset\n",
    "df_dsa.tail()"
   ]
  },
  {
   "cell_type": "markdown",
   "id": "5fe0dd87",
   "metadata": {},
   "source": [
    "Analise Exploratoria"
   ]
  },
  {
   "cell_type": "code",
   "execution_count": null,
   "id": "e42f6e44",
   "metadata": {},
   "outputs": [],
   "source": [
    "#colunas do conjunto de dados\n",
    "df_dsa.columns"
   ]
  },
  {
   "cell_type": "code",
   "execution_count": null,
   "id": "5fd0cdd3",
   "metadata": {},
   "outputs": [],
   "source": [
    "#verificando os tipos de dados de cada coluna\n",
    "df_dsa.dtypes"
   ]
  },
  {
   "cell_type": "code",
   "execution_count": null,
   "id": "a2ec7f09",
   "metadata": {},
   "outputs": [],
   "source": [
    "#resumo estatístico do dataset\n",
    "df_dsa.describe()"
   ]
  },
  {
   "cell_type": "code",
   "execution_count": null,
   "id": "f6abe2b9",
   "metadata": {},
   "outputs": [],
   "source": [
    "#verficando se a duplicidade existe\n",
    "df_dsa[df_dsa.duplicated()]"
   ]
  },
  {
   "cell_type": "code",
   "execution_count": null,
   "id": "b77caae9",
   "metadata": {},
   "outputs": [],
   "source": [
    "#verificando se existem valores ausentes\n",
    "#se haver valores ausentes deve ser resolvido porque e um problema\n",
    "df_dsa.isnull().sum()"
   ]
  },
  {
   "cell_type": "code",
   "execution_count": null,
   "id": "9a6275dd",
   "metadata": {},
   "outputs": [],
   "source": [
    "df_dsa.head()"
   ]
  },
  {
   "cell_type": "markdown",
   "id": "7d7591aa",
   "metadata": {},
   "source": [
    "Pergunta numero 1:\n",
    "Qual cidade com Maior Valor de Venda de Produtos de Categoria 'Office Supplies'"
   ]
  },
  {
   "cell_type": "code",
   "execution_count": null,
   "id": "ec9c79f3",
   "metadata": {},
   "outputs": [],
   "source": [
    "#primeiro filtramos o df com os registros desejados\n",
    "df_dsa_p1 = df_dsa[df_dsa['Categoria'] == 'Office Supplies']"
   ]
  },
  {
   "cell_type": "code",
   "execution_count": null,
   "id": "e2cc551e",
   "metadata": {},
   "outputs": [],
   "source": [
    "#Agrupar os dados por cidade e calcular a soma das vendas\n",
    "df_dsa_p1_total = df_dsa_p1.groupby('Cidade')['Valor_Venda'].sum()"
   ]
  },
  {
   "cell_type": "code",
   "execution_count": null,
   "id": "d8e77e3f",
   "metadata": {},
   "outputs": [],
   "source": [
    "# Verificar se o dataframe não está vazio antes de usar idxmax\n",
    "cidade_max_venda = df_dsa_p1_total.idxmax()\n",
    "print(f'A cidade com maior venda de Office Supplies é: {cidade_max_venda}')"
   ]
  },
  {
   "cell_type": "markdown",
   "id": "a0f6e93c",
   "metadata": {},
   "source": [
    "Pergunta Numero 2 \n",
    "Qual total de vendas por data do pedido?"
   ]
  },
  {
   "cell_type": "code",
   "execution_count": null,
   "id": "1d853ba5",
   "metadata": {},
   "outputs": [],
   "source": [
    "#calculando o total de vendas por cada pedido\n",
    "df_dsa_p2 = df_dsa.groupby('Data_Pedido')['Valor_Venda'].sum()"
   ]
  },
  {
   "cell_type": "code",
   "execution_count": null,
   "id": "613295de",
   "metadata": {},
   "outputs": [],
   "source": [
    "df_dsa_p2.head()"
   ]
  },
  {
   "cell_type": "code",
   "execution_count": null,
   "id": "6a3a84cb",
   "metadata": {},
   "outputs": [],
   "source": [
    "#Plot ou figura, essa alernativa nao e temporarl\n",
    "#se pergunta fosse ao logo do tempo o script seria outro,convertendo a data para datetime\n",
    "plt.figure(figsize=(20, 6))\n",
    "df_dsa_p2.plot(x = 'Data_Pedido', y = 'Valor_Venda', color = 'blue')\n",
    "plt.title('Total de vendas por Data de Pedido')\n",
    "plt.show()"
   ]
  },
  {
   "cell_type": "markdown",
   "id": "80bc11a4",
   "metadata": {},
   "source": [
    "Pergunta de Negocio 3 \n",
    "Qual o total de vendas por Estado"
   ]
  },
  {
   "cell_type": "code",
   "execution_count": null,
   "id": "960988f1",
   "metadata": {},
   "outputs": [],
   "source": [
    "#Agrupar por estado e calcularmos o total de vendas\n",
    "df_dsa_p3 = df_dsa.groupby('Estado')['Valor_Venda'].sum().reset_index() #reset_index()ajuda a criar uma index para nao perder o estado"
   ]
  },
  {
   "cell_type": "code",
   "execution_count": null,
   "id": "959ae2d9",
   "metadata": {},
   "outputs": [],
   "source": [
    "#Plot um grafico mais profissional para relatorios\n",
    "plt.figure(figsize=(20, 6))\n",
    "sns.barplot(data = df_dsa_p3,\n",
    "            y='Valor_Venda',\n",
    "            x='Estado',).set(title='Total de vendas por Estado')\n",
    "plt.xticks(rotation= 80) #xticks sao textos do eixo x\n",
    "plt.show()\n"
   ]
  },
  {
   "cell_type": "markdown",
   "id": "d7a122b1",
   "metadata": {},
   "source": [
    "Pergunta de Negocio Numero 4\n",
    "Quais sao as 10 cidades com maior total de vendas?"
   ]
  },
  {
   "cell_type": "code",
   "execution_count": null,
   "id": "afb8b4e4",
   "metadata": {},
   "outputs": [],
   "source": [
    "#Agrupar por cidade, calculamos o total de vendas e ordenamos listando somente as 10 cidades com maior venda\n",
    "df_dsa_p4 = df_dsa.groupby('Cidade')['Valor_Venda'].sum().reset_index().sort_values(by='Valor_Venda', ascending=False).head(10)"
   ]
  },
  {
   "cell_type": "code",
   "execution_count": null,
   "id": "54eafa1c",
   "metadata": {},
   "outputs": [],
   "source": [
    "df_dsa_p4.head(10)"
   ]
  },
  {
   "cell_type": "code",
   "execution_count": null,
   "id": "b4eb166a",
   "metadata": {},
   "outputs": [],
   "source": [
    "#Plot\n",
    "plt.figure(figsize=(20, 6))\n",
    "sns.set_palette('coolwarm') #definindo uma palete de cores\n",
    "sns.barplot(data = df_dsa_p4,\n",
    "            y='Valor_Venda',\n",
    "            x='Cidade').set(title='Total de vendas das 10')\n",
    "plt.xticks(rotation= 80)\n",
    "plt.show()"
   ]
  },
  {
   "cell_type": "markdown",
   "id": "493802b6",
   "metadata": {},
   "source": [
    "Pergunta Negocio Numero 5\n",
    "Qual Seguimento teve o MAIOR TOTAL DE VENDAS\n",
    "Domoste o resultado atraves de um grafico de pizza\n"
   ]
  },
  {
   "cell_type": "code",
   "execution_count": null,
   "id": "768fb6d9",
   "metadata": {},
   "outputs": [],
   "source": [
    "#Agrupar por sguimento e calcular o total de vendas\n",
    "df_dsa_p5 = df_dsa.groupby('Segmento')['Valor_Venda'].sum().reset_index().sort_values(by='Valor_Venda', ascending=False)"
   ]
  },
  {
   "cell_type": "code",
   "execution_count": null,
   "id": "8608670b",
   "metadata": {},
   "outputs": [],
   "source": [
    "df_dsa_p5.head()"
   ]
  },
  {
   "cell_type": "code",
   "execution_count": 47,
   "id": "e37f6ee5",
   "metadata": {},
   "outputs": [],
   "source": [
    "#funcao para coverter os dados em valor absoluto\n",
    "def autopct_format(values):\n",
    "  def my_format(pct):\n",
    "    total = sum(values)\n",
    "    val = int(np.round(pct * total / 100))\n",
    "    return f'{pct:.1f}%\\n({val})'\n",
    "  return my_format"
   ]
  },
  {
   "cell_type": "code",
   "execution_count": null,
   "id": "1ccfb286",
   "metadata": {},
   "outputs": [],
   "source": [
    "#Plot\n",
    "#Tamanho da figura\n",
    "plt.figure(figsize=(20, 6))\n",
    "#grafico de pizza\n",
    "plt.pie(df_dsa_p5['Valor_Venda'],\n",
    "        labels= df_dsa_p5['Segmento'],\n",
    "        autopct=autopct_format(df_dsa_p5['Valor_Venda']),\n",
    "        startangle=90,\n",
    "        shadow=True,\n",
    "        colors=sns.color_palette('pastel')[0:5])\n",
    "plt.axis('equal') #para o grafico ficar redondo\n",
    "\n",
    "#Limpa o circulo centarl\n",
    "centre_circule = plt.Circle((0, 0), 0.82, fc='white')\n",
    "fig = plt.gcf()\n",
    "fig.gca().add_artist(centre_circule)\n",
    "\n",
    "#labels e anotações\n",
    "plt.annotate(text= 'Total de Vendas' + ' $ ' + str(int(sum(df_dsa_p5['Valor_Venda']))), xy=(-0.25, 0))\n",
    "plt.title('Total de vendas por Segmento')\n",
    "plt.show()\n"
   ]
  }
 ],
 "metadata": {
  "kernelspec": {
   "display_name": "base",
   "language": "python",
   "name": "python3"
  },
  "language_info": {
   "codemirror_mode": {
    "name": "ipython",
    "version": 3
   },
   "file_extension": ".py",
   "mimetype": "text/x-python",
   "name": "python",
   "nbconvert_exporter": "python",
   "pygments_lexer": "ipython3",
   "version": "3.12.4"
  }
 },
 "nbformat": 4,
 "nbformat_minor": 5
}
